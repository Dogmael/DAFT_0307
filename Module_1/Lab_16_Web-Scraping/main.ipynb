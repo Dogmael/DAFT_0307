{
 "cells": [
  {
   "attachments": {},
   "cell_type": "markdown",
   "metadata": {},
   "source": [
    "# Web Scraping Lab\n",
    "\n",
    "You will find in this notebook some scrapy exercises to practise your scraping skills.\n",
    "\n",
    "**Tips:**\n",
    "\n",
    "- Check the response status code for each request to ensure you have obtained the intended content.\n",
    "- Print the response text in each request to understand the kind of info you are getting and its format.\n",
    "- Check for patterns in the response text to extract the data/info requested in each question.\n",
    "- Visit the urls below and take a look at their source code through Chrome DevTools. You'll need to identify the html tags, special class names, etc used in the html content you are expected to extract.\n",
    "\n",
    "**Resources**:\n",
    "- [Requests library](http://docs.python-requests.org/en/master/#the-user-guide)\n",
    "- [Beautiful Soup Doc](https://www.crummy.com/software/BeautifulSoup/bs4/doc/)\n",
    "- [Urllib](https://docs.python.org/3/library/urllib.html#module-urllib)\n",
    "- [re lib](https://docs.python.org/3/library/re.html)\n",
    "- [lxml lib](https://lxml.de/)\n",
    "- [Scrapy](https://scrapy.org/)\n",
    "- [List of HTTP status codes](https://en.wikipedia.org/wiki/List_of_HTTP_status_codes)\n",
    "- [HTML basics](http://www.simplehtmlguide.com/cheatsheet.php)\n",
    "- [CSS basics](https://www.cssbasics.com/#page_start)"
   ]
  },
  {
   "attachments": {},
   "cell_type": "markdown",
   "metadata": {},
   "source": [
    "#### Below are the libraries and modules you may need. `requests`,  `BeautifulSoup` and `pandas` are already imported for you. If you prefer to use additional libraries feel free to do it."
   ]
  },
  {
   "cell_type": "code",
   "execution_count": 1,
   "metadata": {},
   "outputs": [],
   "source": [
    "import requests\n",
    "from bs4 import BeautifulSoup\n",
    "import pandas as pd\n",
    "import re\n",
    "from PIL import Image\n",
    "from io import BytesIO\n",
    "import matplotlib.pyplot as plt\n",
    "\n",
    "\n",
    "from selenium.webdriver import Chrome\n",
    "from selenium.webdriver.common.by import By\n",
    "from webdriver_manager.chrome import ChromeDriverManager"
   ]
  },
  {
   "attachments": {},
   "cell_type": "markdown",
   "metadata": {},
   "source": [
    "#### Download, parse (using BeautifulSoup), and print the content from the Trending Developers page from GitHub:"
   ]
  },
  {
   "attachments": {},
   "cell_type": "markdown",
   "metadata": {},
   "source": [
    "\n",
    "#### Display the names of the trending developers retrieved in the previous step.\n",
    "\n",
    "Your output should be a Python list of developer names. Each name should not contain any html tag.\n",
    "\n",
    "**Instructions:**\n",
    "\n",
    "1. Find out the html tag and class names used for the developer names. You can achieve this using Chrome DevTools.\n",
    "\n",
    "1. Use BeautifulSoup to extract all the html elements that contain the developer names.\n",
    "\n",
    "1. Use string manipulation techniques to replace whitespaces and linebreaks (i.e. `\\n`) in the *text* of each html element. Use a list to store the clean names.\n",
    "\n",
    "1. Print the list of names.\n",
    "\n",
    "Your output should look like below:\n",
    "\n",
    "```\n",
    "['trimstray (@trimstray)',\n",
    " 'joewalnes (JoeWalnes)',\n",
    " 'charlax (Charles-AxelDein)',\n",
    " 'ForrestKnight (ForrestKnight)',\n",
    " 'revery-ui (revery-ui)',\n",
    " 'alibaba (Alibaba)',\n",
    " 'Microsoft (Microsoft)',\n",
    " 'github (GitHub)',\n",
    " 'facebook (Facebook)',\n",
    " 'boazsegev (Bo)',\n",
    " 'google (Google)',\n",
    " 'cloudfetch',\n",
    " 'sindresorhus (SindreSorhus)',\n",
    " 'tensorflow',\n",
    " 'apache (TheApacheSoftwareFoundation)',\n",
    " 'DevonCrawford (DevonCrawford)',\n",
    " 'ARMmbed (ArmMbed)',\n",
    " 'vuejs (vuejs)',\n",
    " 'fastai (fast.ai)',\n",
    " 'QiShaoXuan (Qi)',\n",
    " 'joelparkerhenderson (JoelParkerHenderson)',\n",
    " 'torvalds (LinusTorvalds)',\n",
    " 'CyC2018',\n",
    " 'komeiji-satori (神楽坂覚々)',\n",
    " 'script-8']\n",
    " ```"
   ]
  },
  {
   "cell_type": "code",
   "execution_count": 56,
   "metadata": {},
   "outputs": [],
   "source": [
    "url = 'https://github.com/trending/developers'\n",
    "\n",
    "html_doc = requests.get(url)\n",
    "html_doc = html_doc.content\n",
    "soup = BeautifulSoup(html_doc, 'html.parser')\n",
    "\n",
    "mydivs = soup.find_all(\"div\", {\"class\": \"col-md-6\"})\n",
    "\n",
    "lst = []\n",
    "\n",
    "for i,curr_div in enumerate(mydivs) :\n",
    "    if i % 2 == 0 :\n",
    "      name = \"\"\n",
    "      for j,curr_a in enumerate(curr_div.findAll(\"a\")) :\n",
    "        if j == 0 : \n",
    "          name = curr_a.text.strip(\" \\n\")\n",
    "        if j == 1 :\n",
    "           name = name + \" (\" + curr_a.text.strip(\" \\n\") + \")\"\n",
    "      lst.append(name)"
   ]
  },
  {
   "attachments": {},
   "cell_type": "markdown",
   "metadata": {},
   "source": [
    "#### Display the trending Python repositories in GitHub.\n",
    "\n",
    "The steps to solve this problem is similar to the previous one except that you need to find out the repository names instead of developer names."
   ]
  },
  {
   "cell_type": "code",
   "execution_count": 57,
   "metadata": {},
   "outputs": [],
   "source": [
    "url = 'https://github.com/trending/python?since=daily'\n",
    "\n",
    "html_doc = requests.get(url)\n",
    "html_doc = html_doc.content\n",
    "\n",
    "soup = BeautifulSoup(html_doc, 'html.parser')\n",
    "\n",
    "mydivs = soup.find_all(\"h2\", {\"class\": \"h3 lh-condensed\"})\n",
    "\n",
    "lst = []\n",
    "\n",
    "for i,curr_div in enumerate(mydivs) :\n",
    "    lst.append(re.search(\"(?<=/)[^\\]]+\",curr_div.text)[0].strip(\" \\n\"))"
   ]
  },
  {
   "attachments": {},
   "cell_type": "markdown",
   "metadata": {},
   "source": [
    "#### Display all the image links from Walt Disney wikipedia page."
   ]
  },
  {
   "cell_type": "code",
   "execution_count": 92,
   "metadata": {},
   "outputs": [
    {
     "name": "stdout",
     "output_type": "stream",
     "text": [
      "https://en.wikipedia.org/static/images/mobile/copyright/wikipedia-wordmark-en.svg\n",
      "https://en.wikipedia.org/static/images/mobile/copyright/wikipedia-tagline-en.svg\n"
     ]
    }
   ],
   "source": [
    "# This is the url you will scrape in this exercise\n",
    "url = 'https://en.wikipedia.org/wiki/Walt_Disney'\n",
    "\n",
    "html_doc = requests.get(url)\n",
    "html_doc = html_doc.content\n",
    "\n",
    "soup = BeautifulSoup(html_doc, 'html.parser')\n",
    "imgs = soup.find_all(\"img\")\n",
    "\n",
    "for img in imgs :\n",
    "    if img[\"src\"][:7] == \"/static\" :\n",
    "        url = \"https://en.wikipedia.org\" + img[\"src\"]\n",
    "    else :\n",
    "        url = \"https:\"+img[\"src\"]\n",
    "    \n",
    "    try : \n",
    "        response = requests.get(url)\n",
    "        display = Image.open(BytesIO(response.content))\n",
    "        display.show()\n",
    "\n",
    "    except :\n",
    "        print(url)"
   ]
  },
  {
   "attachments": {},
   "cell_type": "markdown",
   "metadata": {},
   "source": [
    "#### Retrieve an arbitary Wikipedia page of \"Python\" and create a list of links on that page."
   ]
  },
  {
   "cell_type": "code",
   "execution_count": 103,
   "metadata": {},
   "outputs": [],
   "source": [
    "url ='https://en.wikipedia.org/wiki/Colt_Python'\n",
    "\n",
    "html_doc = requests.get(url)\n",
    "html_doc = html_doc.content\n",
    "\n",
    "soup = BeautifulSoup(html_doc, 'html.parser')\n",
    "hrefs = soup.find_all('a', href=True)\n",
    "\n",
    "hrefs_list = []\n",
    "\n",
    "for href in hrefs :\n",
    "\n",
    "    if href[\"href\"][0] == \"#\" :\n",
    "        url = \"https://en.wikipedia.org/wiki/Colt_Python\"+href[\"href\"]\n",
    "        hrefs_list.append(url)\n",
    "    else :\n",
    "        url = \"https://en.wikipedia.org/\"+href[\"href\"]\n",
    "        hrefs_list.append(url)"
   ]
  },
  {
   "attachments": {},
   "cell_type": "markdown",
   "metadata": {},
   "source": [
    "#### Find the number of titles that have changed in the United States Code since its last release point."
   ]
  },
  {
   "cell_type": "code",
   "execution_count": null,
   "metadata": {},
   "outputs": [],
   "source": [
    "# This is the url you will scrape in this exercise\n",
    "url = 'http://uscode.house.gov/download/download.shtml'"
   ]
  },
  {
   "attachments": {},
   "cell_type": "markdown",
   "metadata": {},
   "source": [
    "#### Find a Python list with the top ten FBI's Most Wanted names."
   ]
  },
  {
   "cell_type": "code",
   "execution_count": null,
   "metadata": {},
   "outputs": [],
   "source": [
    "# This is the url you will scrape in this exercise\n",
    "url = 'https://www.fbi.gov/wanted/topten'"
   ]
  },
  {
   "cell_type": "code",
   "execution_count": null,
   "metadata": {},
   "outputs": [],
   "source": [
    "# your code here"
   ]
  },
  {
   "attachments": {},
   "cell_type": "markdown",
   "metadata": {},
   "source": [
    "####  Display the 20 latest earthquakes info (date, time, latitude, longitude and region name) by the EMSC as a pandas dataframe."
   ]
  },
  {
   "cell_type": "code",
   "execution_count": 2,
   "metadata": {},
   "outputs": [
    {
     "name": "stderr",
     "output_type": "stream",
     "text": [
      "/var/folders/wm/d5dlldtd761c3pdx78hpgpg40000gn/T/ipykernel_8384/2790391069.py:5: DeprecationWarning: executable_path has been deprecated, please pass in a Service object\n",
      "  driver = Chrome(ChromeDriverManager().install())\n"
     ]
    }
   ],
   "source": [
    "url = 'https://www.emsc-csem.org/Earthquake/'\n",
    "\n",
    "\n",
    "def get_link(url) : # Ne ce comporte pas de la même manière à chaque execution, pourquoi ????\n",
    "    driver = Chrome(ChromeDriverManager().install())\n",
    "    driver.get(url)\n",
    "\n",
    "    time.spleep()\n",
    "    tbody = driver.find_element(By.XPATH,'/html/body/div[3]/div[5]/table/tbody') #On selectionne le tableau\n",
    "\n",
    "    table = tbody.find_elements(By.XPATH, \".//tr\") #Attention on vient appliquer une méthode sur tbody qui le modifie ! Ce n'est plus le même après cette opération !\n",
    "\n",
    "    links = []\n",
    "\n",
    "    for row in table :\n",
    "        links.append(row.find_element(By.XPATH, \".//td[4]/a\").get_attribute(\"href\"))\n",
    "\n",
    "    driver.close()\n",
    "    return links\n",
    "\n",
    "\n",
    "links = get_link(url)"
   ]
  },
  {
   "cell_type": "code",
   "execution_count": 3,
   "metadata": {},
   "outputs": [
    {
     "data": {
      "text/plain": [
       "['https://www.emsc-csem.org/Earthquake_information/earthquake.php?id=1527770',\n",
       " 'https://www.emsc-csem.org/Earthquake_information/earthquake.php?id=1527766',\n",
       " 'https://www.emsc-csem.org/Earthquake_information/earthquake.php?id=1527761',\n",
       " 'https://www.emsc-csem.org/Earthquake_information/earthquake.php?id=1527767',\n",
       " 'https://www.emsc-csem.org/Earthquake_information/earthquake.php?id=1527762',\n",
       " 'https://www.emsc-csem.org/Earthquake_information/earthquake.php?id=1527760',\n",
       " 'https://www.emsc-csem.org/Earthquake_information/earthquake.php?id=1527757',\n",
       " 'https://www.emsc-csem.org/Earthquake_information/earthquake.php?id=1527763',\n",
       " 'https://www.emsc-csem.org/Earthquake_information/earthquake.php?id=1527756',\n",
       " 'https://www.emsc-csem.org/Earthquake_information/earthquake.php?id=1527758',\n",
       " 'https://www.emsc-csem.org/Earthquake_information/earthquake.php?id=1527765',\n",
       " 'https://www.emsc-csem.org/Earthquake_information/earthquake.php?id=1527745',\n",
       " 'https://www.emsc-csem.org/Earthquake_information/earthquake.php?id=1527744',\n",
       " 'https://www.emsc-csem.org/Earthquake_information/earthquake.php?id=1527768',\n",
       " 'https://www.emsc-csem.org/Earthquake_information/earthquake.php?id=1527743',\n",
       " 'https://www.emsc-csem.org/Earthquake_information/earthquake.php?id=1527746',\n",
       " 'https://www.emsc-csem.org/Earthquake_information/earthquake.php?id=1527751',\n",
       " 'https://www.emsc-csem.org/Earthquake_information/earthquake.php?id=1527737',\n",
       " 'https://www.emsc-csem.org/Earthquake_information/earthquake.php?id=1527741',\n",
       " 'https://www.emsc-csem.org/Earthquake_information/earthquake.php?id=1527736',\n",
       " 'https://www.emsc-csem.org/Earthquake_information/earthquake.php?id=1527750',\n",
       " 'https://www.emsc-csem.org/Earthquake_information/earthquake.php?id=1527734',\n",
       " 'https://www.emsc-csem.org/Earthquake_information/earthquake.php?id=1527733',\n",
       " 'https://www.emsc-csem.org/Earthquake_information/earthquake.php?id=1527727',\n",
       " 'https://www.emsc-csem.org/Earthquake_information/earthquake.php?id=1527732',\n",
       " 'https://www.emsc-csem.org/Earthquake_information/earthquake.php?id=1527728',\n",
       " 'https://www.emsc-csem.org/Earthquake_information/earthquake.php?id=1527731',\n",
       " 'https://www.emsc-csem.org/Earthquake_information/earthquake.php?id=1527722',\n",
       " 'https://www.emsc-csem.org/Earthquake_information/earthquake.php?id=1527764',\n",
       " 'https://www.emsc-csem.org/Earthquake_information/earthquake.php?id=1527717',\n",
       " 'https://www.emsc-csem.org/Earthquake_information/earthquake.php?id=1527729',\n",
       " 'https://www.emsc-csem.org/Earthquake_information/earthquake.php?id=1527720',\n",
       " 'https://www.emsc-csem.org/Earthquake_information/earthquake.php?id=1527725',\n",
       " 'https://www.emsc-csem.org/Earthquake_information/earthquake.php?id=1527711',\n",
       " 'https://www.emsc-csem.org/Earthquake_information/earthquake.php?id=1527709',\n",
       " 'https://www.emsc-csem.org/Earthquake_information/earthquake.php?id=1527712',\n",
       " 'https://www.emsc-csem.org/Earthquake_information/earthquake.php?id=1527704',\n",
       " 'https://www.emsc-csem.org/Earthquake_information/earthquake.php?id=1527701',\n",
       " 'https://www.emsc-csem.org/Earthquake_information/earthquake.php?id=1527706',\n",
       " 'https://www.emsc-csem.org/Earthquake_information/earthquake.php?id=1527695',\n",
       " 'https://www.emsc-csem.org/Earthquake_information/earthquake.php?id=1527749',\n",
       " 'https://www.emsc-csem.org/Earthquake_information/earthquake.php?id=1527697',\n",
       " 'https://www.emsc-csem.org/Earthquake_information/earthquake.php?id=1527696',\n",
       " 'https://www.emsc-csem.org/Earthquake_information/earthquake.php?id=1527692',\n",
       " 'https://www.emsc-csem.org/Earthquake_information/earthquake.php?id=1527689',\n",
       " 'https://www.emsc-csem.org/Earthquake_information/earthquake.php?id=1527690',\n",
       " 'https://www.emsc-csem.org/Earthquake_information/earthquake.php?id=1527686',\n",
       " 'https://www.emsc-csem.org/Earthquake_information/earthquake.php?id=1527685',\n",
       " 'https://www.emsc-csem.org/Earthquake_information/earthquake.php?id=1527684',\n",
       " 'https://www.emsc-csem.org/Earthquake_information/earthquake.php?id=1527683',\n",
       " 'https://www.emsc-csem.org/Earthquake_information/earthquake.php?id=1527682',\n",
       " 'https://www.emsc-csem.org/Earthquake_information/earthquake.php?id=1527700',\n",
       " 'https://www.emsc-csem.org/Earthquake_information/earthquake.php?id=1527679',\n",
       " 'https://www.emsc-csem.org/Earthquake_information/earthquake.php?id=1527674',\n",
       " 'https://www.emsc-csem.org/Earthquake_information/earthquake.php?id=1527676',\n",
       " 'https://www.emsc-csem.org/Earthquake_information/earthquake.php?id=1527671',\n",
       " 'https://www.emsc-csem.org/Earthquake_information/earthquake.php?id=1527669',\n",
       " 'https://www.emsc-csem.org/Earthquake_information/earthquake.php?id=1527673',\n",
       " 'https://www.emsc-csem.org/Earthquake_information/earthquake.php?id=1527667',\n",
       " 'https://www.emsc-csem.org/Earthquake_information/earthquake.php?id=1527755',\n",
       " 'https://www.emsc-csem.org/Earthquake_information/earthquake.php?id=1527666',\n",
       " 'https://www.emsc-csem.org/Earthquake_information/earthquake.php?id=1527665',\n",
       " 'https://www.emsc-csem.org/Earthquake_information/earthquake.php?id=1527668',\n",
       " 'https://www.emsc-csem.org/Earthquake_information/earthquake.php?id=1527656',\n",
       " 'https://www.emsc-csem.org/Earthquake_information/earthquake.php?id=1527655',\n",
       " 'https://www.emsc-csem.org/Earthquake_information/earthquake.php?id=1527721',\n",
       " 'https://www.emsc-csem.org/Earthquake_information/earthquake.php?id=1527680',\n",
       " 'https://www.emsc-csem.org/Earthquake_information/earthquake.php?id=1527653',\n",
       " 'https://www.emsc-csem.org/Earthquake_information/earthquake.php?id=1527658',\n",
       " 'https://www.emsc-csem.org/Earthquake_information/earthquake.php?id=1527657',\n",
       " 'https://www.emsc-csem.org/Earthquake_information/earthquake.php?id=1527716',\n",
       " 'https://www.emsc-csem.org/Earthquake_information/earthquake.php?id=1527652',\n",
       " 'https://www.emsc-csem.org/Earthquake_information/earthquake.php?id=1527752',\n",
       " 'https://www.emsc-csem.org/Earthquake_information/earthquake.php?id=1527650',\n",
       " 'https://www.emsc-csem.org/Earthquake_information/earthquake.php?id=1527646',\n",
       " 'https://www.emsc-csem.org/Earthquake_information/earthquake.php?id=1527643',\n",
       " 'https://www.emsc-csem.org/Earthquake_information/earthquake.php?id=1527644',\n",
       " 'https://www.emsc-csem.org/Earthquake_information/earthquake.php?id=1527641',\n",
       " 'https://www.emsc-csem.org/Earthquake_information/earthquake.php?id=1527642',\n",
       " 'https://www.emsc-csem.org/Earthquake_information/earthquake.php?id=1527638',\n",
       " 'https://www.emsc-csem.org/Earthquake_information/earthquake.php?id=1527639',\n",
       " 'https://www.emsc-csem.org/Earthquake_information/earthquake.php?id=1527637',\n",
       " 'https://www.emsc-csem.org/Earthquake_information/earthquake.php?id=1527634',\n",
       " 'https://www.emsc-csem.org/Earthquake_information/earthquake.php?id=1527633',\n",
       " 'https://www.emsc-csem.org/Earthquake_information/earthquake.php?id=1527632',\n",
       " 'https://www.emsc-csem.org/Earthquake_information/earthquake.php?id=1527635',\n",
       " 'https://www.emsc-csem.org/Earthquake_information/earthquake.php?id=1527617',\n",
       " 'https://www.emsc-csem.org/Earthquake_information/earthquake.php?id=1527612',\n",
       " 'https://www.emsc-csem.org/Earthquake_information/earthquake.php?id=1527613',\n",
       " 'https://www.emsc-csem.org/Earthquake_information/earthquake.php?id=1527609',\n",
       " 'https://www.emsc-csem.org/Earthquake_information/earthquake.php?id=1527610',\n",
       " 'https://www.emsc-csem.org/Earthquake_information/earthquake.php?id=1527607',\n",
       " 'https://www.emsc-csem.org/Earthquake_information/earthquake.php?id=1527747',\n",
       " 'https://www.emsc-csem.org/Earthquake_information/earthquake.php?id=1527605',\n",
       " 'https://www.emsc-csem.org/Earthquake_information/earthquake.php?id=1527604',\n",
       " 'https://www.emsc-csem.org/Earthquake_information/earthquake.php?id=1527603',\n",
       " 'https://www.emsc-csem.org/Earthquake_information/earthquake.php?id=1527601',\n",
       " 'https://www.emsc-csem.org/Earthquake_information/earthquake.php?id=1527600',\n",
       " 'https://www.emsc-csem.org/Earthquake_information/earthquake.php?id=1527599',\n",
       " 'https://www.emsc-csem.org/Earthquake_information/earthquake.php?id=1527597']"
      ]
     },
     "execution_count": 3,
     "metadata": {},
     "output_type": "execute_result"
    }
   ],
   "source": [
    "links[]"
   ]
  },
  {
   "attachments": {},
   "cell_type": "markdown",
   "metadata": {},
   "source": [
    "#### Count the number of tweets by a given Twitter account.\n",
    "Ask the user for the handle (@handle) of a twitter account. You will need to include a ***try/except block*** for account names not found. \n",
    "<br>***Hint:*** the program should count the number of tweets for any provided account."
   ]
  },
  {
   "cell_type": "code",
   "execution_count": null,
   "metadata": {},
   "outputs": [],
   "source": [
    "# This is the url you will scrape in this exercise \n",
    "# You will need to add the account credentials to this url\n",
    "url = 'https://twitter.com/'"
   ]
  },
  {
   "cell_type": "code",
   "execution_count": null,
   "metadata": {},
   "outputs": [],
   "source": [
    "# your code here"
   ]
  },
  {
   "attachments": {},
   "cell_type": "markdown",
   "metadata": {},
   "source": [
    "#### Number of followers of a given twitter account\n",
    "Ask the user for the handle (@handle) of a twitter account. You will need to include a ***try/except block*** for account names not found. \n",
    "<br>***Hint:*** the program should count the followers for any provided account."
   ]
  },
  {
   "cell_type": "code",
   "execution_count": null,
   "metadata": {},
   "outputs": [],
   "source": [
    "# This is the url you will scrape in this exercise \n",
    "# You will need to add the account credentials to this url\n",
    "url = 'https://twitter.com/'"
   ]
  },
  {
   "cell_type": "code",
   "execution_count": null,
   "metadata": {},
   "outputs": [],
   "source": [
    "# your code here"
   ]
  },
  {
   "attachments": {},
   "cell_type": "markdown",
   "metadata": {},
   "source": [
    "#### List all language names and number of related articles in the order they appear in wikipedia.org."
   ]
  },
  {
   "cell_type": "code",
   "execution_count": null,
   "metadata": {},
   "outputs": [],
   "source": [
    "# This is the url you will scrape in this exercise\n",
    "url = 'https://www.wikipedia.org/'"
   ]
  },
  {
   "cell_type": "code",
   "execution_count": null,
   "metadata": {},
   "outputs": [],
   "source": [
    "# your code here"
   ]
  },
  {
   "attachments": {},
   "cell_type": "markdown",
   "metadata": {},
   "source": [
    "#### A list with the different kind of datasets available in data.gov.uk."
   ]
  },
  {
   "cell_type": "code",
   "execution_count": null,
   "metadata": {},
   "outputs": [],
   "source": [
    "# This is the url you will scrape in this exercise\n",
    "url = 'https://data.gov.uk/'"
   ]
  },
  {
   "cell_type": "code",
   "execution_count": null,
   "metadata": {},
   "outputs": [],
   "source": [
    "# your code here"
   ]
  },
  {
   "attachments": {},
   "cell_type": "markdown",
   "metadata": {},
   "source": [
    "#### Display the top 10 languages by number of native speakers stored in a pandas dataframe."
   ]
  },
  {
   "cell_type": "code",
   "execution_count": null,
   "metadata": {},
   "outputs": [],
   "source": [
    "# This is the url you will scrape in this exercise\n",
    "url = 'https://en.wikipedia.org/wiki/List_of_languages_by_number_of_native_speakers'"
   ]
  },
  {
   "cell_type": "code",
   "execution_count": null,
   "metadata": {},
   "outputs": [],
   "source": [
    "# your code here"
   ]
  },
  {
   "attachments": {},
   "cell_type": "markdown",
   "metadata": {},
   "source": [
    "## Bonus\n",
    "#### Scrape a certain number of tweets of a given Twitter account."
   ]
  },
  {
   "cell_type": "code",
   "execution_count": null,
   "metadata": {},
   "outputs": [],
   "source": [
    "# This is the url you will scrape in this exercise \n",
    "# You will need to add the account credentials to this url\n",
    "url = 'https://twitter.com/'"
   ]
  },
  {
   "cell_type": "code",
   "execution_count": null,
   "metadata": {},
   "outputs": [],
   "source": [
    "# your code here"
   ]
  },
  {
   "attachments": {},
   "cell_type": "markdown",
   "metadata": {},
   "source": [
    "#### Display IMDB's top 250 data (movie name, initial release, director name and stars) as a pandas dataframe."
   ]
  },
  {
   "cell_type": "code",
   "execution_count": null,
   "metadata": {},
   "outputs": [],
   "source": [
    "# This is the url you will scrape in this exercise \n",
    "url = 'https://www.imdb.com/chart/top'"
   ]
  },
  {
   "cell_type": "code",
   "execution_count": null,
   "metadata": {},
   "outputs": [],
   "source": [
    "# your code here"
   ]
  },
  {
   "attachments": {},
   "cell_type": "markdown",
   "metadata": {},
   "source": [
    "#### Display the movie name, year and a brief summary of the top 10 random movies (IMDB) as a pandas dataframe."
   ]
  },
  {
   "cell_type": "code",
   "execution_count": null,
   "metadata": {},
   "outputs": [],
   "source": [
    "#This is the url you will scrape in this exercise\n",
    "url = 'http://www.imdb.com/chart/top'"
   ]
  },
  {
   "cell_type": "code",
   "execution_count": null,
   "metadata": {},
   "outputs": [],
   "source": [
    "# your code here"
   ]
  },
  {
   "attachments": {},
   "cell_type": "markdown",
   "metadata": {},
   "source": [
    "#### Find the live weather report (temperature, wind speed, description and weather) of a given city."
   ]
  },
  {
   "cell_type": "code",
   "execution_count": null,
   "metadata": {},
   "outputs": [],
   "source": [
    "#https://openweathermap.org/current\n",
    "city = input('Enter the city: ')\n",
    "url = 'http://api.openweathermap.org/data/2.5/weather?'+'q='+city+'&APPID=b35975e18dc93725acb092f7272cc6b8&units=metric'"
   ]
  },
  {
   "cell_type": "code",
   "execution_count": null,
   "metadata": {},
   "outputs": [],
   "source": [
    "# your code here"
   ]
  },
  {
   "attachments": {},
   "cell_type": "markdown",
   "metadata": {},
   "source": [
    "#### Find the book name, price and stock availability as a pandas dataframe."
   ]
  },
  {
   "cell_type": "code",
   "execution_count": null,
   "metadata": {},
   "outputs": [],
   "source": [
    "# This is the url you will scrape in this exercise. \n",
    "# It is a fictional bookstore created to be scraped. \n",
    "url = 'http://books.toscrape.com/'"
   ]
  },
  {
   "cell_type": "code",
   "execution_count": null,
   "metadata": {},
   "outputs": [],
   "source": [
    "# your code here"
   ]
  }
 ],
 "metadata": {
  "kernelspec": {
   "display_name": "Python 3",
   "language": "python",
   "name": "python3"
  },
  "language_info": {
   "codemirror_mode": {
    "name": "ipython",
    "version": 3
   },
   "file_extension": ".py",
   "mimetype": "text/x-python",
   "name": "python",
   "nbconvert_exporter": "python",
   "pygments_lexer": "ipython3",
   "version": "3.10.10"
  }
 },
 "nbformat": 4,
 "nbformat_minor": 2
}
