{
 "cells": [
  {
   "attachments": {},
   "cell_type": "markdown",
   "metadata": {},
   "source": [
    "# Before your start:\n",
    "- Read the README.md file\n",
    "- Comment as much as you can and use the resources in the README.md file\n",
    "- Happy learning!"
   ]
  },
  {
   "attachments": {},
   "cell_type": "markdown",
   "metadata": {},
   "source": [
    "# Challenge 1 - Combining Strings\n",
    "\n",
    "Combining strings is an important skill to acquire. There are multiple ways of combining strings in Python, as well as combining strings with variables. We will explore this in the first challenge. In the cell below, combine the strings in the list and add spaces between the strings (do not add a space after the last string). Insert a period after the last string."
   ]
  },
  {
   "cell_type": "code",
   "execution_count": 3,
   "metadata": {},
   "outputs": [
    {
     "data": {
      "text/plain": [
       "'Durante un tiempo no estuvo segura de si su marido era su marido.'"
      ]
     },
     "execution_count": 3,
     "metadata": {},
     "output_type": "execute_result"
    }
   ],
   "source": [
    "str_list = ['Durante', 'un', 'tiempo', 'no', 'estuvo', 'segura', 'de', 'si', 'su', 'marido', 'era', 'su', 'marido']\n",
    "# Your code here:\n",
    "\n",
    "sentence = \" \".join(str_list) + \".\" #Interessant\n",
    "\n",
    "sentence"
   ]
  },
  {
   "attachments": {},
   "cell_type": "markdown",
   "metadata": {},
   "source": [
    "In the cell below, use the list of strings to create a grocery list. Start the list with the string `Grocery list: ` and include a comma and a space between each item except for the last one. Include a period at the end. Only include foods in the list that start with the letter 'b' and ensure all foods are lower case."
   ]
  },
  {
   "cell_type": "code",
   "execution_count": 8,
   "metadata": {},
   "outputs": [
    {
     "data": {
      "text/plain": [
       "'Grocery list : bananas, chocolate, bread, diapers, ice cream, brownie mix, broccoli.'"
      ]
     },
     "execution_count": 8,
     "metadata": {},
     "output_type": "execute_result"
    }
   ],
   "source": [
    "food_list = ['Bananas', 'Chocolate', 'bread', 'diapers', 'Ice Cream', 'Brownie Mix', 'broccoli']\n",
    "# Your code here:\n",
    "\n",
    "sentence = \"Grocery list : \" + \", \".join(food_list).lower() +\".\" #Interessant\n",
    "sentence"
   ]
  },
  {
   "attachments": {},
   "cell_type": "markdown",
   "metadata": {},
   "source": [
    "In the cell below, write a function that computes the area of a circle using its radius. Compute the area of the circle and insert the radius and the area between the two strings. Make sure to include spaces between the variable and the strings. \n",
    "\n",
    "Note: You can use the techniques we have learned so far or use f-strings. F-strings allow us to embed code inside strings. You can read more about f-strings [here](https://www.python.org/dev/peps/pep-0498/)."
   ]
  },
  {
   "cell_type": "code",
   "execution_count": 18,
   "metadata": {},
   "outputs": [
    {
     "data": {
      "text/plain": [
       "'The area of the circle with radius: 4.5 is: 63.617'"
      ]
     },
     "execution_count": 18,
     "metadata": {},
     "output_type": "execute_result"
    }
   ],
   "source": [
    "import math\n",
    "\n",
    "string1 = \"The area of the circle with radius:\"\n",
    "string2  = \"is:\"\n",
    "radius = 4.5\n",
    "\n",
    "def area(x, pi = math.pi):\n",
    "    \"\"\"\n",
    "    This function takes a radius and returns the area of a circle. \n",
    "    We also pass a default value for pi.\n",
    "    \n",
    "    Input: Float (and default value for pi)\n",
    "    Output: Float\n",
    "    \n",
    "    Sample input: 5.0\n",
    "    Sample Output: 78.53981633\n",
    "    \"\"\"\n",
    "    \n",
    "    return pi*x**2    \n",
    "    \n",
    "# Your output string here:\n",
    "\n",
    "\n",
    "string1 + str(radius) + string2 + str(area(radius))\n",
    "\n",
    "# txt1 = \"My name is {fname}, I'm {age}\".format(fname = \"John\", age = 36)\n",
    "\n",
    "sentence = \"{string1} {radius} {string2} {area:.3f}\".format(string1 = string1, radius = radius, string2 = string2, area = area(radius)) #Interessant\n",
    "\n",
    "sentence"
   ]
  },
  {
   "attachments": {},
   "cell_type": "markdown",
   "metadata": {},
   "source": [
    "# Challenge 2 - Splitting Strings\n",
    "\n",
    "We have first looked at combining strings into one long string. There are times where we need to do the opposite and split the string into smaller components for further analysis. \n",
    "\n",
    "In the cell below, split the string into a list of strings using the space delimiter. Count the frequency of each word in the string in a dictionary. Strip the periods, line breaks and commas from the text. Make sure to remove empty strings from your dictionary."
   ]
  },
  {
   "cell_type": "code",
   "execution_count": 27,
   "metadata": {},
   "outputs": [
    {
     "data": {
      "text/plain": [
       "{'Some': 1,\n",
       " 'say': 3,\n",
       " 'the': 1,\n",
       " 'world': 1,\n",
       " 'will': 1,\n",
       " 'end': 1,\n",
       " 'in': 2,\n",
       " 'fireSome': 1,\n",
       " 'iceFrom': 1,\n",
       " 'what': 1,\n",
       " 'I’ve': 1,\n",
       " 'tasted': 1,\n",
       " 'of': 2,\n",
       " 'desireI': 1,\n",
       " 'hold': 1,\n",
       " 'with': 1,\n",
       " 'those': 1,\n",
       " 'who': 1,\n",
       " 'favor': 1,\n",
       " 'fireBut': 1,\n",
       " 'if': 1,\n",
       " 'it': 1,\n",
       " 'had': 1,\n",
       " 'to': 1,\n",
       " 'perish': 1,\n",
       " 'twiceI': 1,\n",
       " 'think': 1,\n",
       " 'I': 1,\n",
       " 'know': 1,\n",
       " 'enough': 1,\n",
       " 'hateTo': 1,\n",
       " 'that': 1,\n",
       " 'for': 1,\n",
       " 'destruction': 1,\n",
       " 'iceIs': 1,\n",
       " 'also': 1,\n",
       " 'greatAnd': 1,\n",
       " 'would': 1,\n",
       " 'suffice': 1}"
      ]
     },
     "execution_count": 27,
     "metadata": {},
     "output_type": "execute_result"
    }
   ],
   "source": [
    "poem = \"\"\"Some say the world will end in fire,\n",
    "Some say in ice.\n",
    "From what I’ve tasted of desire\n",
    "I hold with those who favor fire.\n",
    "But if it had to perish twice,\n",
    "I think I know enough of hate\n",
    "To say that for destruction ice\n",
    "Is also great\n",
    "And would suffice.\"\"\"\n",
    "\n",
    "# Your code here:\n",
    "poem = poem.replace(\".\", \"\").replace(\"\\n\", \"\").replace(\",\", \"\").split(\" \") #Interessant\n",
    "my_dict = dict()\n",
    "for word in poem :\n",
    "    my_dict[word] = poem.count(word) #Interessant\n",
    "\n",
    "\n",
    "my_dict"
   ]
  },
  {
   "attachments": {},
   "cell_type": "markdown",
   "metadata": {},
   "source": [
    "In the cell below, find all the words that appear in the text and do not appear in the blacklist. You must parse the string but can choose any data structure you wish for the words that do not appear in the blacklist. Remove all non letter characters and convert all words to lower case."
   ]
  },
  {
   "cell_type": "code",
   "execution_count": 43,
   "metadata": {},
   "outputs": [
    {
     "data": {
      "text/plain": [
       "['i',\n",
       " 'was',\n",
       " 'angry',\n",
       " 'with',\n",
       " 'my',\n",
       " 'friend',\n",
       " 'i',\n",
       " 'told',\n",
       " 'my',\n",
       " 'wrath',\n",
       " 'my',\n",
       " 'wrath',\n",
       " 'did',\n",
       " 'endi',\n",
       " 'was',\n",
       " 'angry',\n",
       " 'with',\n",
       " 'my',\n",
       " 'foe',\n",
       " 'i',\n",
       " 'told',\n",
       " 'not',\n",
       " 'my',\n",
       " 'wrath',\n",
       " 'did',\n",
       " 'grow',\n",
       " 'i',\n",
       " 'waterd',\n",
       " 'fearsnight',\n",
       " '',\n",
       " 'morning',\n",
       " 'with',\n",
       " 'my',\n",
       " 'tears',\n",
       " 'i',\n",
       " 'sunned',\n",
       " 'with',\n",
       " 'smilesand',\n",
       " 'with',\n",
       " 'soft',\n",
       " 'deceitful',\n",
       " 'wiles',\n",
       " 'grew',\n",
       " 'both',\n",
       " 'day',\n",
       " 'night',\n",
       " 'till',\n",
       " 'bore',\n",
       " 'apple',\n",
       " 'bright',\n",
       " 'my',\n",
       " 'foe',\n",
       " 'beheld',\n",
       " 'shineand',\n",
       " 'he',\n",
       " 'knew',\n",
       " 'that',\n",
       " 'was',\n",
       " 'mine',\n",
       " 'into',\n",
       " 'my',\n",
       " 'garden',\n",
       " 'stole',\n",
       " 'when',\n",
       " 'night',\n",
       " 'had',\n",
       " 'veild',\n",
       " 'pole',\n",
       " 'morning',\n",
       " 'glad',\n",
       " 'i',\n",
       " 'see',\n",
       " 'my',\n",
       " 'foe',\n",
       " 'outstretched',\n",
       " 'beneath',\n",
       " 'tree']"
      ]
     },
     "execution_count": 43,
     "metadata": {},
     "output_type": "execute_result"
    }
   ],
   "source": [
    "blacklist = ['and', 'as', 'an', 'a', 'the', 'in', 'it']\n",
    "\n",
    "poem = \"\"\"I was angry with my friend; \n",
    "I told my wrath, my wrath did end.\n",
    "I was angry with my foe: \n",
    "I told it not, my wrath did grow. \n",
    "\n",
    "And I waterd it in fears,\n",
    "Night & morning with my tears: \n",
    "And I sunned it with smiles,\n",
    "And with soft deceitful wiles. \n",
    "\n",
    "And it grew both day and night. \n",
    "Till it bore an apple bright. \n",
    "And my foe beheld it shine,\n",
    "And he knew that it was mine. \n",
    "\n",
    "And into my garden stole, \n",
    "When the night had veild the pole; \n",
    "In the morning glad I see; \n",
    "My foe outstretched beneath the tree.\"\"\"\n",
    "\n",
    "# Your code here:\n",
    "\n",
    "not_in_blacklist = []\n",
    "split_poem = poem.lower().replace(\"\\n\",\"\").split(\" \")\n",
    "\n",
    "import re\n",
    "\n",
    "regex = re.compile('[^a-zA-Z]')\n",
    "\n",
    "for word in split_poem :\n",
    "    if word not in blacklist :\n",
    "        not_in_blacklist.append(regex.sub('', word))\n",
    "\n",
    "not_in_blacklist\n"
   ]
  }
 ],
 "metadata": {
  "kernelspec": {
   "display_name": "Python 3",
   "language": "python",
   "name": "python3"
  },
  "language_info": {
   "codemirror_mode": {
    "name": "ipython",
    "version": 3
   },
   "file_extension": ".py",
   "mimetype": "text/x-python",
   "name": "python",
   "nbconvert_exporter": "python",
   "pygments_lexer": "ipython3",
   "version": "3.7.3"
  },
  "varInspector": {
   "cols": {
    "lenName": 16,
    "lenType": 16,
    "lenVar": 40
   },
   "kernels_config": {
    "python": {
     "delete_cmd_postfix": "",
     "delete_cmd_prefix": "del ",
     "library": "var_list.py",
     "varRefreshCmd": "print(var_dic_list())"
    },
    "r": {
     "delete_cmd_postfix": ") ",
     "delete_cmd_prefix": "rm(",
     "library": "var_list.r",
     "varRefreshCmd": "cat(var_dic_list()) "
    }
   },
   "types_to_exclude": [
    "module",
    "function",
    "builtin_function_or_method",
    "instance",
    "_Feature"
   ],
   "window_display": false
  }
 },
 "nbformat": 4,
 "nbformat_minor": 2
}
